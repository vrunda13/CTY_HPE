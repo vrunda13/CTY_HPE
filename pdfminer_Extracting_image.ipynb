{
 "cells": [
  {
   "cell_type": "code",
   "execution_count": 1,
   "metadata": {},
   
   "source": [
    "from pdfminer.pdfparser import PDFParser\n",
    "from pdfminer.pdfdocument import PDFDocument\n",
    "from pdfminer.pdfpage import PDFPage\n",
    "from pdfminer.pdfpage import PDFTextExtractionNotAllowed\n",
    "from pdfminer.pdfinterp import PDFResourceManager\n",
    "from pdfminer.pdfinterp import PDFPageInterpreter\n",
    "from pdfminer.pdfdevice import PDFDevice\n",
    "from pdfminer.layout import LAParams, LTTextBox, LTTextLine, LTFigure, LTImage, LTChar\n",
    "from pdfminer.converter import PDFPageAggregator\n",
    "\n",
    "import os,sys,io\n",
    "from PIL import Image"
   ]
  },
  {
   "cell_type": "code",
   "execution_count": null,
   "metadata": {},
   "outputs": [],
   "source": [
    "# Set parameters for analysis.\n",
    "laparams = LAParams()\n",
    "\n",
    "rsrcmgr = PDFResourceManager()\n",
    "\n",
    "# Create a PDF page aggregator object.\n",
    "device = PDFPageAggregator(rsrcmgr, laparams=laparams)\n",
    "interpreter = PDFPageInterpreter(rsrcmgr, device)\n",
    "\n",
    "\n",
    "# Open a PDF file.\n",
    "fp = open(\"C:\\\\Users\\\\user\\\\Desktop\\\\Print - Application.pdf\",'rb')\n",
    "\n",
    "# Create a PDF parser object associated with the file object.\n",
    "parser = PDFParser(fp)\n",
    "# Create a PDF document object that stores the document structure.\n",
    "document = PDFDocument(parser)\n",
    "\n",
    "for p, page in enumerate(PDFPage.create_pages(document)):\n",
    "    interpreter.process_page(page)\n",
    "    # receive the LTPage object for the page.\n",
    "    layout = device.get_result()\n",
    "\n",
    "    for node in layout: # node=object encountered in the page/layout\n",
    "        #CHeck if the detected child object is LTFigure\n",
    "        if isinstance(node,LTFigure): # LTFigure=Represents an area used by PDF Form objects\n",
    "            for n in node: #for each curve or line in the object\n",
    "                if n.stream:\n",
    "                    buffer = io.BytesIO(n.stream.get_data()) #extracts broken data from pdf\n",
    "                    im =Image.frombytes(mode=\"1\", data = n.stream.data, size = n.srcsize, decoder_name='raw') \n",
    "                    im.save(\"new_fromIm2.jpg\")\n",
    "\n"
   ]
  }
 ],
 "metadata": {
  "kernelspec": {
   "display_name": "Python 3",
   "language": "python",
   "name": "python3"
  },
  "language_info": {
   "codemirror_mode": {
    "name": "ipython",
    "version": 3
   },
   "file_extension": ".py",
   "mimetype": "text/x-python",
   "name": "python",
   "nbconvert_exporter": "python",
   "pygments_lexer": "ipython3",
   "version": "3.7.1"
  }
 },
 "nbformat": 4,
 "nbformat_minor": 4
}
