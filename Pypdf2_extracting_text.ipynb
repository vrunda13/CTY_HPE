{
 "cells": [
  {
   "cell_type": "code",
   "execution_count": 1,
   "metadata": {},
   "outputs": [],
   "source": [
    "#Extract Text From .pdf To .txt files\n",
    "import PyPDF2 as pdf"
   ]
  },
  {
   "cell_type": "code",
   "execution_count": 7,
   "metadata": {},
   "outputs": [],
   "source": [
    "#Function to Extract Text From .pdf To .txt files\n",
    "def pdf_to_text(pdf_name):\n",
    "    pdf_obj=pdf.PdfFileReader(pdf_name)\n",
    "    # creating a new .txt file \n",
    "    with open(\"file2.txt\",\"w\") as f:\n",
    "        #Extracting Text Pagewise\n",
    "        for i in range(pdf_obj.getNumPages()):\n",
    "            data = pdf_obj.getPage(i).extractText()\n",
    "            #writing Extracted text to the .txt file\n",
    "            f.write(data)\n",
    "            f.write(\"\\n\")\n"
   ]
  },
  {
   "cell_type": "code",
   "execution_count": 8,
   "metadata": {},
   "outputs": [
    {
     "name": "stdout",
     "output_type": "stream",
     "text": [
      "Enter the file namesample.pdf\n"
     ]
    }
   ],
   "source": [
    "file_name = input(\"Enter the file name\")\n",
    "pdf_to_text(file_name)"
   ]
  },
  {
   "cell_type": "code",
   "execution_count": null,
   "metadata": {},
   "outputs": [],
   "source": []
  }
 ],
 "metadata": {
  "kernelspec": {
   "display_name": "Python 3",
   "language": "python",
   "name": "python3"
  },
  "language_info": {
   "codemirror_mode": {
    "name": "ipython",
    "version": 3
   },
   "file_extension": ".py",
   "mimetype": "text/x-python",
   "name": "python",
   "nbconvert_exporter": "python",
   "pygments_lexer": "ipython3",
   "version": "3.7.1"
  }
 },
 "nbformat": 4,
 "nbformat_minor": 4
}
