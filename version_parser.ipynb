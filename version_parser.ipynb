{
 "cells": [
  {
   "cell_type": "code",
   "execution_count": 55,
   "metadata": {},
   "outputs": [],
   "source": [
    "with open(\"One.txt\",\"r\") as file:\n",
    "    content=file.read()"
   ]
  },
  {
   "cell_type": "code",
   "execution_count": 56,
   "metadata": {},
   "outputs": [],
   "source": [
    "content=content.replace(\"\\n\",\" \").replace(\"/\",\" \").replace(\",\",\" \").replace(\":\",\" \")"
   ]
  },
  {
   "cell_type": "code",
   "execution_count": 57,
   "metadata": {},
   "outputs": [],
   "source": [
    "l2=content.split()"
   ]
  },
  {
   "cell_type": "code",
   "execution_count": 58,
   "metadata": {},
   "outputs": [],
   "source": [
    "ver1=[]\n",
    "ver_ind1=[]\n",
    "for i in range(len(l2)):\n",
    "    if (l2[i][0]==\"v\" or l2[i][0]==\"V\") and l2[i][1].isdigit():\n",
    "        #v=Version(i)\n",
    "        ver1.append(l2[i])\n",
    "        ver_ind1.append(i)\n",
    "    elif i<len(l2)-2:\n",
    "        if (l2[i]==\"version\" or l2[i]==\"Version\") :\n",
    "            if  l2[i+1][0].isdigit():\n",
    "                ver1.append(l2[i+1])\n",
    "                ver_ind1.append(i+1)\n",
    "            elif  l2[i+2][0].isdigit():\n",
    "                ver1.append(l2[i+2])\n",
    "                ver_ind1.append(i+2)\n",
    "    "
   ]
  },
  {
   "cell_type": "code",
   "execution_count": 59,
   "metadata": {},
   "outputs": [
    {
     "data": {
      "text/plain": [
       "['v6.7(0)', '6.7.0']"
      ]
     },
     "execution_count": 59,
     "metadata": {},
     "output_type": "execute_result"
    }
   ],
   "source": [
    "ver1"
   ]
  },
  {
   "cell_type": "code",
   "execution_count": 60,
   "metadata": {},
   "outputs": [
    {
     "data": {
      "text/plain": [
       "[1291, 1304]"
      ]
     },
     "execution_count": 60,
     "metadata": {},
     "output_type": "execute_result"
    }
   ],
   "source": [
    "ver_ind1"
   ]
  },
  {
   "cell_type": "code",
   "execution_count": 61,
   "metadata": {},
   "outputs": [],
   "source": [
    "import csv\n",
    "#dic={}\n",
    "words=[]\n",
    "labels=[]\n",
    "with open('knowledgeBase.csv',encoding='utf8') as csv_file:\n",
    "    content1=csv.DictReader(csv_file)\n",
    "    for i in content1:\n",
    "         words.append(i['WORDS'])\n",
    "         #labels.append(i['LABEL'])"
   ]
  },
  {
   "cell_type": "code",
   "execution_count": 62,
   "metadata": {},
   "outputs": [],
   "source": [
    "\n",
    "for i in range(len(words)):\n",
    "    j=words[i].replace(\" \",\"\")\n",
    "    j=j.lower()\n",
    "    words[i]=j"
   ]
  },
  {
   "cell_type": "code",
   "execution_count": 63,
   "metadata": {},
   "outputs": [],
   "source": [
    "w=[]\n",
    "ind=[]\n",
    "for i in range(len(l2)):\n",
    "    if l2[i].lower() in words and l2[i] not in w:\n",
    "        w.append(l2[i])\n",
    "        ind.append(i)\n",
    "    elif i<(len(l2)-2):\n",
    "        #t=l[i] +\" \"+l[i+1]\n",
    "        m=l2[i].lower() +l2[i+1].lower()\n",
    "        \"\"\"if t in words and t not in w:\n",
    "            w.append(t)\n",
    "            continue\"\"\"\n",
    "        if m in words and (l2[i]+l2[i+1]) not in w:\n",
    "            w.append(l2[i]+l2[i+1])\n",
    "            ind.append(i)\n",
    "            continue\n",
    "            \n",
    "        #s=l[i] +\" \"+l[i+1]+\" \"+l[i+2]\n",
    "        n=l2[i].lower() +l2[i+1].lower()+l2[i+2].lower()\n",
    "        \"\"\"if s in words and s not in w:\n",
    "            w.append(s)\n",
    "            continue\"\"\"\n",
    "        if n in words and (l2[i]+l2[i+1]+l2[i+2]) not in w:\n",
    "            w.append(l2[i]+l2[i+1]+l2[i+2])\n",
    "            ind.append(i)"
   ]
  },
  {
   "cell_type": "code",
   "execution_count": 64,
   "metadata": {},
   "outputs": [
    {
     "data": {
      "text/plain": [
       "['ClearPassPolicyManager',\n",
       " 'AntiVirus',\n",
       " 'ClearPassserver',\n",
       " 'DAT',\n",
       " 'WindowsHotfixes',\n",
       " 'Webserviceserver',\n",
       " 'CLI',\n",
       " 'ClearPassServer',\n",
       " 'IP',\n",
       " 'SNMP',\n",
       " 'SSH',\n",
       " 'VMwarevSphere',\n",
       " 'MicrosoftHyper-V',\n",
       " 'KVMconsole',\n",
       " 'PolicyManagerCLI',\n",
       " 'ArubaNetworks',\n",
       " 'DNS',\n",
       " 'ip',\n",
       " 'dns',\n",
       " 'MobilityController',\n",
       " 'RADIUSServer',\n",
       " 'mobilitycontroller',\n",
       " 'XML',\n",
       " 'RADIUSserver',\n",
       " 'TACACS']"
      ]
     },
     "execution_count": 64,
     "metadata": {},
     "output_type": "execute_result"
    }
   ],
   "source": [
    "w"
   ]
  },
  {
   "cell_type": "code",
   "execution_count": 65,
   "metadata": {},
   "outputs": [
    {
     "data": {
      "text/plain": [
       "[101,\n",
       " 281,\n",
       " 285,\n",
       " 299,\n",
       " 306,\n",
       " 559,\n",
       " 681,\n",
       " 780,\n",
       " 812,\n",
       " 1095,\n",
       " 1148,\n",
       " 1274,\n",
       " 1276,\n",
       " 1279,\n",
       " 1288,\n",
       " 1295,\n",
       " 1329,\n",
       " 1332,\n",
       " 1341,\n",
       " 1520,\n",
       " 1576,\n",
       " 1641,\n",
       " 1673,\n",
       " 1875,\n",
       " 1901]"
      ]
     },
     "execution_count": 65,
     "metadata": {},
     "output_type": "execute_result"
    }
   ],
   "source": [
    "ind"
   ]
  },
  {
   "cell_type": "code",
   "execution_count": 66,
   "metadata": {},
   "outputs": [
    {
     "name": "stdout",
     "output_type": "stream",
     "text": [
      "TECH: PolicyManagerCLI VERSION: v6.7(0)\n",
      "TECH: ArubaNetworks VERSION: 6.7.0\n"
     ]
    }
   ],
   "source": [
    "\n",
    "n1=ver_ind1\n",
    "for i in range(len(ind)):\n",
    "    if ind[i] < n1[0] and ind[i+1]>n1[0] :\n",
    "        print(\"TECH:\",w[i],\"VERSION:\",l2[n1.pop(0)])\n",
    "        if len(n1)==0:\n",
    "            break"
   ]
  },
  {
   "cell_type": "code",
   "execution_count": null,
   "metadata": {},
   "outputs": [],
   "source": []
  },
  {
   "cell_type": "code",
   "execution_count": null,
   "metadata": {},
   "outputs": [],
   "source": []
  }
 ],
 "metadata": {
  "kernelspec": {
   "display_name": "Python 3.6(tensorflow)",
   "language": "python",
   "name": "tensorflow"
  },
  "language_info": {
   "codemirror_mode": {
    "name": "ipython",
    "version": 3
   },
   "file_extension": ".py",
   "mimetype": "text/x-python",
   "name": "python",
   "nbconvert_exporter": "python",
   "pygments_lexer": "ipython3",
   "version": "3.6.9"
  }
 },
 "nbformat": 4,
 "nbformat_minor": 2
}
