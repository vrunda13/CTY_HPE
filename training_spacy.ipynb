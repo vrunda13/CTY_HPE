{
 "cells": [
  {
   "cell_type": "code",
   "execution_count": 1,
   "metadata": {},
   "outputs": [],
   "source": [
    "from __future__ import unicode_literals, print_function\n",
    "\n",
    "import plac #  wrapper over argparse\n",
    "import random\n",
    "from pathlib import Path\n",
    "import spacy\n",
    "from tqdm import tqdm # loading bar"
   ]
  },
  {
   "cell_type": "code",
   "execution_count": 2,
   "metadata": {},
   "outputs": [],
   "source": [
    "nlp=spacy.load(\"en_core_web_sm\")#load english library"
   ]
  },
  {
   "cell_type": "code",
   "execution_count": 48,
   "metadata": {},
   "outputs": [],
   "source": [
    "TRAIN_DATA = [\n",
    "    (\"These updates include AntiVirus version updates.\", {\n",
    "        'entities': [(22, 31, 'TECH')]\n",
    "    }),\n",
    "\n",
    "    (\"The ClearPassserver uses these updates to check.\", {\n",
    "        'entities': [(4,19,'TECH')]\n",
    "    }),\n",
    "    \n",
    "    (\"AntiVirus performs following actions.\", {\n",
    "        'entities': [(0,9,'TECH')]\n",
    "    }),\n",
    "    \n",
    "    (\"ClearPassserver performs following operation.\", {\n",
    "        'entities': [(0, 15, 'TECH')]\n",
    "    }),\n",
    "\n",
    "    (\"Contacts the Webserviceserver to download the latest Posture\", {\n",
    "        'entities': [(13, 29, 'TECH')]\n",
    "    }),\n",
    "\n",
    "    (\"Contacts the Webservice server to download the latest Posture\", {\n",
    "        'entities': [(48, 54, 'TECH')]\n",
    "    }),\n",
    "\n",
    "    (\"for supported Windows operating systems\", {\n",
    "        'entities': [(14, 38, 'TECH')]\n",
    "    }),\n",
    "    \n",
    "    (\"I use Windows operating system\", {\n",
    "        'entities': [(6, 30, 'TECH')]\n",
    "    }),\n",
    "    \n",
    "    (\"SNMP parameters can be used here.\", {\n",
    "        'entities': [(0, 4, 'TECH')]\n",
    "    }),\n",
    "    \n",
    "    (\"This allows to configure SNMP parameters\", {\n",
    "        'entities': [(25, 29, 'TECH')]\n",
    "    }),\n",
    "    \n",
    "    (\"This allows to configure Windows Hotfixes parameters\", {\n",
    "        'entities': [(25, 41, 'TECH')]\n",
    "    }),\n",
    "    \n",
    "    (\"Windows Hotfixes can be accessed through this.\", {\n",
    "        'entities': [(0, 16, 'TECH')]\n",
    "    }),\n",
    "    \n",
    "    (\"This allows to configure ClearPass Policy Manager parameters\", {\n",
    "        'entities': [(25, 49, 'TECH')]\n",
    "    }),\n",
    "    \n",
    "    (\"The ClearPass Policy Manager can be accessed through this.\", {\n",
    "        'entities': [(4, 28, 'TECH')]\n",
    "    }),\n",
    "    \n",
    "    (\"This allows to configure ClearPass User Interface parameters\", {\n",
    "        'entities': [(25, 49, 'TECH')]\n",
    "    }),\n",
    "    \n",
    "    (\"The ClearPass User Interface can be accessed through this.\", {\n",
    "        'entities': [(4, 28, 'TECH')]\n",
    "    }),\n",
    "    \n",
    "    (\"This allows to configure Policy Manager CLI parameters\", {\n",
    "        'entities': [(25, 43, 'TECH')]\n",
    "    }),\n",
    "    \n",
    "    (\"Policy Manager CLI can be accessed through this.\", {\n",
    "        'entities': [(0, 19, 'TECH')]\n",
    "    }),\n",
    "    \n",
    "    (\"The Mobility Controller can be accessed through this.\", {\n",
    "        'entities': [(4, 23, 'TECH')]\n",
    "    }),\n",
    "    \n",
    "    (\"This allows to configure Mobility Controller parameters\", {\n",
    "        'entities': [(25, 44, 'TECH')]\n",
    "    }),\n",
    "    \n",
    "    (\"The Aruba network can be accessed through this.\", {\n",
    "        'entities': [(4, 17, 'TECH')]\n",
    "    }),\n",
    "    \n",
    "    (\"This allows to configure Aruba network parameters\", {\n",
    "        'entities': [(25, 38, 'TECH')]\n",
    "    }),\n",
    "    \n",
    "    (\"RADIUS Server can be accessed through this.\", {\n",
    "        'entities': [(0, 13, 'TECH')]\n",
    "    }),\n",
    "    \n",
    "    (\"This allows to configure RADIUS Server parameters\", {\n",
    "        'entities': [(25, 38, 'TECH')]\n",
    "    }),\n",
    "    \n",
    "    (\"This allows to configure Microsoft Hyper-V parameters\", {\n",
    "        'entities': [(25, 42, 'TECH')]\n",
    "    }),\n",
    "    \n",
    "    (\"Microsoft Hyper-V can be accessed through this.\", {\n",
    "        'entities': [(0, 17, 'TECH')]\n",
    "    }),\n",
    "    \n",
    "    (\"VMware vSphere can be accessed through this.\", {\n",
    "        'entities': [(0, 14, 'TECH')]\n",
    "    }),\n",
    "    \n",
    "    (\"This allows to configure VMware vSphere parameters\", {\n",
    "        'entities': [(25, 39, 'TECH')]\n",
    "    }),\n",
    "    \n",
    "    (\"This allows to configure CLI parameters\", {\n",
    "        'entities': [(25, 28, 'TECH')]\n",
    "    }),\n",
    "    \n",
    "    (\"This allows you to access CLI.\", {\n",
    "        'entities': [(26, 29, 'TECH')]\n",
    "    }),\n",
    "    \n",
    "    (\"This allows you to use SSH.\", {\n",
    "        'entities': [(23, 26, 'TECH')]\n",
    "    }),\n",
    "    \n",
    "    (\"This allows to configure SSH parameters\", {\n",
    "        'entities': [(25, 28, 'TECH')]\n",
    "    }),\n",
    "    \n",
    "    (\"This allows to configure DNS server on your own.\", {\n",
    "        'entities': [(25, 28, 'TECH')]\n",
    "    }),\n",
    "    \n",
    "    (\"This allows to configure DNS parameters\", {\n",
    "        'entities': [(25, 28, 'TECH')]\n",
    "    }),\n",
    "    \n",
    "    (\"This allows you to access and configure KVM console.\", {\n",
    "        'entities': [(40, 51, 'TECH')]\n",
    "    }),\n",
    "    \n",
    "    (\"This allows to configure KVM console parameters\", {\n",
    "        'entities': [(25, 36, 'TECH')]\n",
    "    }),\n",
    "    \n",
    "    (\"This allows to configure DAT parameters\", {\n",
    "        'entities': [(25, 28, 'TECH')]\n",
    "    }),\n",
    "    \n",
    "    (\"This allows to access DAT file\", {\n",
    "        'entities': [(22, 25, 'TECH')]\n",
    "    }),\n",
    "    \n",
    "    (\"This allows to use TACACS to configure.\", {\n",
    "        'entities': [(19, 25, 'TECH')]\n",
    "    }),\n",
    "    \n",
    "    (\"TACACS can be used to configure parameters\", {\n",
    "        'entities': [(0,6, 'TECH')]\n",
    "    }),\n",
    "    \n",
    "    (\"This allows you to use XML.\", {\n",
    "        'entities': [(23, 26, 'TECH')]\n",
    "    }),\n",
    "    \n",
    "    (\"This allows to configure XML parameters\", {\n",
    "        'entities': [(25, 28, 'TECH')]\n",
    "    }),\n",
    "     \n",
    "]"
   ]
  },
  {
   "cell_type": "code",
   "execution_count": 49,
   "metadata": {},
   "outputs": [],
   "source": [
    "model = None\n",
    "output_dir=Path(\"C:/Users/Admin/Desktop/HPE/TEST\")\n",
    "n_iter=100"
   ]
  },
  {
   "cell_type": "code",
   "execution_count": 50,
   "metadata": {},
   "outputs": [
    {
     "name": "stdout",
     "output_type": "stream",
     "text": [
      "Created blank 'en' model\n"
     ]
    }
   ],
   "source": [
    "if model is not None:\n",
    "    nlp = spacy.load(model)  # load existing spaCy model\n",
    "    print(\"Loaded model '%s'\" % model)\n",
    "else:\n",
    "    nlp = spacy.blank('en')  # create blank Language class\n",
    "    print(\"Created blank 'en' model\")"
   ]
  },
  {
   "cell_type": "code",
   "execution_count": 51,
   "metadata": {},
   "outputs": [],
   "source": [
    "# create the built-in pipeline components and add them to the pipeline\n",
    "    # nlp.create_pipe works for built-ins that are registered with spaCy\n",
    "if 'ner' not in nlp.pipe_names:\n",
    "    ner = nlp.create_pipe('ner')\n",
    "    nlp.add_pipe(ner, last=True)\n",
    "# otherwise, get it so we can add labels\n",
    "else:\n",
    "    ner = nlp.get_pipe('ner')"
   ]
  },
  {
   "cell_type": "code",
   "execution_count": 52,
   "metadata": {},
   "outputs": [
    {
     "name": "stderr",
     "output_type": "stream",
     "text": [
      "100%|██████████████████████████████████████████| 42/42 [00:04<00:00,  8.61it/s]\n",
      "  2%|█                                          | 1/42 [00:00<00:06,  6.40it/s]"
     ]
    },
    {
     "name": "stdout",
     "output_type": "stream",
     "text": [
      "{'ner': 105.51750327696982}\n"
     ]
    },
    {
     "name": "stderr",
     "output_type": "stream",
     "text": [
      "100%|██████████████████████████████████████████| 42/42 [00:04<00:00,  8.82it/s]\n",
      "  2%|█                                          | 1/42 [00:00<00:05,  8.00it/s]"
     ]
    },
    {
     "name": "stdout",
     "output_type": "stream",
     "text": [
      "{'ner': 66.17358579192776}\n"
     ]
    },
    {
     "name": "stderr",
     "output_type": "stream",
     "text": [
      "100%|██████████████████████████████████████████| 42/42 [00:04<00:00,  8.89it/s]\n",
      "  2%|█                                          | 1/42 [00:00<00:05,  8.00it/s]"
     ]
    },
    {
     "name": "stdout",
     "output_type": "stream",
     "text": [
      "{'ner': 65.19164251848795}\n"
     ]
    },
    {
     "name": "stderr",
     "output_type": "stream",
     "text": [
      "100%|██████████████████████████████████████████| 42/42 [00:04<00:00,  8.93it/s]\n",
      "  2%|█                                          | 1/42 [00:00<00:05,  8.00it/s]"
     ]
    },
    {
     "name": "stdout",
     "output_type": "stream",
     "text": [
      "{'ner': 51.895542052608924}\n"
     ]
    },
    {
     "name": "stderr",
     "output_type": "stream",
     "text": [
      "100%|██████████████████████████████████████████| 42/42 [00:04<00:00,  8.95it/s]\n",
      "  2%|█                                          | 1/42 [00:00<00:04,  8.62it/s]"
     ]
    },
    {
     "name": "stdout",
     "output_type": "stream",
     "text": [
      "{'ner': 42.88239106734012}\n"
     ]
    },
    {
     "name": "stderr",
     "output_type": "stream",
     "text": [
      "100%|██████████████████████████████████████████| 42/42 [00:04<00:00,  8.98it/s]\n",
      "  2%|█                                          | 1/42 [00:00<00:06,  6.49it/s]"
     ]
    },
    {
     "name": "stdout",
     "output_type": "stream",
     "text": [
      "{'ner': 34.514407842370744}\n"
     ]
    },
    {
     "name": "stderr",
     "output_type": "stream",
     "text": [
      "100%|██████████████████████████████████████████| 42/42 [00:04<00:00,  8.97it/s]\n",
      "  2%|█                                          | 1/42 [00:00<00:04,  9.14it/s]"
     ]
    },
    {
     "name": "stdout",
     "output_type": "stream",
     "text": [
      "{'ner': 38.4367052712168}\n"
     ]
    },
    {
     "name": "stderr",
     "output_type": "stream",
     "text": [
      "100%|██████████████████████████████████████████| 42/42 [00:04<00:00,  8.98it/s]\n",
      "  2%|█                                          | 1/42 [00:00<00:04,  9.14it/s]"
     ]
    },
    {
     "name": "stdout",
     "output_type": "stream",
     "text": [
      "{'ner': 21.798699944272542}\n"
     ]
    },
    {
     "name": "stderr",
     "output_type": "stream",
     "text": [
      "100%|██████████████████████████████████████████| 42/42 [00:04<00:00,  9.00it/s]\n",
      "  2%|█                                          | 1/42 [00:00<00:04,  9.14it/s]"
     ]
    },
    {
     "name": "stdout",
     "output_type": "stream",
     "text": [
      "{'ner': 29.313700523711322}\n"
     ]
    },
    {
     "name": "stderr",
     "output_type": "stream",
     "text": [
      "100%|██████████████████████████████████████████| 42/42 [00:04<00:00,  9.03it/s]\n",
      "  2%|█                                          | 1/42 [00:00<00:04,  9.14it/s]"
     ]
    },
    {
     "name": "stdout",
     "output_type": "stream",
     "text": [
      "{'ner': 12.462702059703343}\n"
     ]
    },
    {
     "name": "stderr",
     "output_type": "stream",
     "text": [
      "100%|██████████████████████████████████████████| 42/42 [00:04<00:00,  9.01it/s]\n",
      "  2%|█                                          | 1/42 [00:00<00:05,  8.00it/s]"
     ]
    },
    {
     "name": "stdout",
     "output_type": "stream",
     "text": [
      "{'ner': 18.11216790683519}\n"
     ]
    },
    {
     "name": "stderr",
     "output_type": "stream",
     "text": [
      "100%|██████████████████████████████████████████| 42/42 [00:04<00:00,  8.90it/s]\n",
      "  2%|█                                          | 1/42 [00:00<00:05,  8.00it/s]"
     ]
    },
    {
     "name": "stdout",
     "output_type": "stream",
     "text": [
      "{'ner': 8.864052484201487}\n"
     ]
    },
    {
     "name": "stderr",
     "output_type": "stream",
     "text": [
      "100%|██████████████████████████████████████████| 42/42 [00:04<00:00,  9.09it/s]\n",
      "  2%|█                                          | 1/42 [00:00<00:04,  9.14it/s]"
     ]
    },
    {
     "name": "stdout",
     "output_type": "stream",
     "text": [
      "{'ner': 5.512454891094664}\n"
     ]
    },
    {
     "name": "stderr",
     "output_type": "stream",
     "text": [
      "100%|██████████████████████████████████████████| 42/42 [00:04<00:00,  9.09it/s]\n",
      "  2%|█                                          | 1/42 [00:00<00:04,  9.14it/s]"
     ]
    },
    {
     "name": "stdout",
     "output_type": "stream",
     "text": [
      "{'ner': 7.509005891858595}\n"
     ]
    },
    {
     "name": "stderr",
     "output_type": "stream",
     "text": [
      "100%|██████████████████████████████████████████| 42/42 [00:05<00:00,  8.38it/s]\n",
      "  2%|█                                          | 1/42 [00:00<00:04,  8.48it/s]"
     ]
    },
    {
     "name": "stdout",
     "output_type": "stream",
     "text": [
      "{'ner': 9.933237606709186}\n"
     ]
    },
    {
     "name": "stderr",
     "output_type": "stream",
     "text": [
      "100%|██████████████████████████████████████████| 42/42 [00:05<00:00,  8.13it/s]\n",
      "  2%|█                                          | 1/42 [00:00<00:05,  6.99it/s]"
     ]
    },
    {
     "name": "stdout",
     "output_type": "stream",
     "text": [
      "{'ner': 9.524773419342726}\n"
     ]
    },
    {
     "name": "stderr",
     "output_type": "stream",
     "text": [
      "100%|██████████████████████████████████████████| 42/42 [00:05<00:00,  7.74it/s]\n",
      "  2%|█                                          | 1/42 [00:00<00:06,  6.40it/s]"
     ]
    },
    {
     "name": "stdout",
     "output_type": "stream",
     "text": [
      "{'ner': 7.174712399438412}\n"
     ]
    },
    {
     "name": "stderr",
     "output_type": "stream",
     "text": [
      "100%|██████████████████████████████████████████| 42/42 [00:06<00:00,  6.99it/s]\n",
      "  2%|█                                          | 1/42 [00:00<00:06,  6.40it/s]"
     ]
    },
    {
     "name": "stdout",
     "output_type": "stream",
     "text": [
      "{'ner': 8.188346678229179}\n"
     ]
    },
    {
     "name": "stderr",
     "output_type": "stream",
     "text": [
      "100%|██████████████████████████████████████████| 42/42 [00:06<00:00,  6.30it/s]\n",
      "  0%|                                                   | 0/42 [00:00<?, ?it/s]"
     ]
    },
    {
     "name": "stdout",
     "output_type": "stream",
     "text": [
      "{'ner': 4.3029529950624354}\n"
     ]
    },
    {
     "name": "stderr",
     "output_type": "stream",
     "text": [
      "100%|██████████████████████████████████████████| 42/42 [00:07<00:00,  5.86it/s]\n",
      "  0%|                                                   | 0/42 [00:00<?, ?it/s]"
     ]
    },
    {
     "name": "stdout",
     "output_type": "stream",
     "text": [
      "{'ner': 4.669263016594994}\n"
     ]
    },
    {
     "name": "stderr",
     "output_type": "stream",
     "text": [
      "100%|██████████████████████████████████████████| 42/42 [00:07<00:00,  5.63it/s]\n",
      "  0%|                                                   | 0/42 [00:00<?, ?it/s]"
     ]
    },
    {
     "name": "stdout",
     "output_type": "stream",
     "text": [
      "{'ner': 6.021050262617117}\n"
     ]
    },
    {
     "name": "stderr",
     "output_type": "stream",
     "text": [
      "100%|██████████████████████████████████████████| 42/42 [00:07<00:00,  5.86it/s]\n",
      "  2%|█                                          | 1/42 [00:00<00:07,  5.82it/s]"
     ]
    },
    {
     "name": "stdout",
     "output_type": "stream",
     "text": [
      "{'ner': 4.298378078851656}\n"
     ]
    },
    {
     "name": "stderr",
     "output_type": "stream",
     "text": [
      "100%|██████████████████████████████████████████| 42/42 [00:07<00:00,  5.98it/s]\n",
      "  0%|                                                   | 0/42 [00:00<?, ?it/s]"
     ]
    },
    {
     "name": "stdout",
     "output_type": "stream",
     "text": [
      "{'ner': 13.448174735603796}\n"
     ]
    },
    {
     "name": "stderr",
     "output_type": "stream",
     "text": [
      "100%|██████████████████████████████████████████| 42/42 [00:06<00:00,  6.12it/s]\n",
      "  2%|█                                          | 1/42 [00:00<00:06,  6.81it/s]"
     ]
    },
    {
     "name": "stdout",
     "output_type": "stream",
     "text": [
      "{'ner': 0.24132733379009322}\n"
     ]
    },
    {
     "name": "stderr",
     "output_type": "stream",
     "text": [
      "100%|██████████████████████████████████████████| 42/42 [00:06<00:00,  6.47it/s]\n",
      "  2%|█                                          | 1/42 [00:00<00:06,  6.40it/s]"
     ]
    },
    {
     "name": "stdout",
     "output_type": "stream",
     "text": [
      "{'ner': 2.035254193198776}\n"
     ]
    },
    {
     "name": "stderr",
     "output_type": "stream",
     "text": [
      "100%|██████████████████████████████████████████| 42/42 [00:06<00:00,  6.59it/s]\n",
      "  2%|█                                          | 1/42 [00:00<00:05,  6.94it/s]"
     ]
    },
    {
     "name": "stdout",
     "output_type": "stream",
     "text": [
      "{'ner': 2.0449262726026576}\n"
     ]
    },
    {
     "name": "stderr",
     "output_type": "stream",
     "text": [
      "100%|██████████████████████████████████████████| 42/42 [00:06<00:00,  6.82it/s]\n",
      "  2%|█                                          | 1/42 [00:00<00:05,  7.00it/s]"
     ]
    },
    {
     "name": "stdout",
     "output_type": "stream",
     "text": [
      "{'ner': 0.4315639040383211}\n"
     ]
    },
    {
     "name": "stderr",
     "output_type": "stream",
     "text": [
      "100%|██████████████████████████████████████████| 42/42 [00:06<00:00,  6.75it/s]\n",
      "  2%|█                                          | 1/42 [00:00<00:07,  5.56it/s]"
     ]
    },
    {
     "name": "stdout",
     "output_type": "stream",
     "text": [
      "{'ner': 0.0017444141319040488}\n"
     ]
    },
    {
     "name": "stderr",
     "output_type": "stream",
     "text": [
      "100%|██████████████████████████████████████████| 42/42 [00:06<00:00,  6.74it/s]\n",
      "  2%|█                                          | 1/42 [00:00<00:06,  6.40it/s]"
     ]
    },
    {
     "name": "stdout",
     "output_type": "stream",
     "text": [
      "{'ner': 4.84190019706698}\n"
     ]
    },
    {
     "name": "stderr",
     "output_type": "stream",
     "text": [
      "100%|██████████████████████████████████████████| 42/42 [00:06<00:00,  6.76it/s]\n",
      "  2%|█                                          | 1/42 [00:00<00:05,  7.11it/s]"
     ]
    },
    {
     "name": "stdout",
     "output_type": "stream",
     "text": [
      "{'ner': 2.3868437695180305}\n"
     ]
    },
    {
     "name": "stderr",
     "output_type": "stream",
     "text": [
      "100%|██████████████████████████████████████████| 42/42 [00:06<00:00,  6.81it/s]\n",
      "  2%|█                                          | 1/42 [00:00<00:06,  6.58it/s]"
     ]
    },
    {
     "name": "stdout",
     "output_type": "stream",
     "text": [
      "{'ner': 1.7027363001602716e-05}\n"
     ]
    },
    {
     "name": "stderr",
     "output_type": "stream",
     "text": [
      "100%|██████████████████████████████████████████| 42/42 [00:06<00:00,  6.76it/s]\n",
      "  2%|█                                          | 1/42 [00:00<00:06,  6.76it/s]"
     ]
    },
    {
     "name": "stdout",
     "output_type": "stream",
     "text": [
      "{'ner': 0.0003134075383876409}\n"
     ]
    },
    {
     "name": "stderr",
     "output_type": "stream",
     "text": [
      "100%|██████████████████████████████████████████| 42/42 [00:06<00:00,  6.84it/s]\n",
      "  2%|█                                          | 1/42 [00:00<00:05,  7.37it/s]"
     ]
    },
    {
     "name": "stdout",
     "output_type": "stream",
     "text": [
      "{'ner': 0.0005099997001372596}\n"
     ]
    },
    {
     "name": "stderr",
     "output_type": "stream",
     "text": [
      "100%|██████████████████████████████████████████| 42/42 [00:06<00:00,  6.61it/s]\n",
      "  2%|█                                          | 1/42 [00:00<00:05,  7.11it/s]"
     ]
    },
    {
     "name": "stdout",
     "output_type": "stream",
     "text": [
      "{'ner': 1.9799550472859702}\n"
     ]
    },
    {
     "name": "stderr",
     "output_type": "stream",
     "text": [
      "100%|██████████████████████████████████████████| 42/42 [00:06<00:00,  6.53it/s]\n",
      "  2%|█                                          | 1/42 [00:00<00:06,  6.76it/s]"
     ]
    },
    {
     "name": "stdout",
     "output_type": "stream",
     "text": [
      "{'ner': 2.0441477437254028}\n"
     ]
    },
    {
     "name": "stderr",
     "output_type": "stream",
     "text": [
      "100%|██████████████████████████████████████████| 42/42 [00:06<00:00,  6.55it/s]\n",
      "  2%|█                                          | 1/42 [00:00<00:06,  6.26it/s]"
     ]
    },
    {
     "name": "stdout",
     "output_type": "stream",
     "text": [
      "{'ner': 0.0037480401294375694}\n"
     ]
    },
    {
     "name": "stderr",
     "output_type": "stream",
     "text": [
      "100%|██████████████████████████████████████████| 42/42 [00:06<00:00,  6.22it/s]\n",
      "  2%|█                                          | 1/42 [00:00<00:06,  5.90it/s]"
     ]
    },
    {
     "name": "stdout",
     "output_type": "stream",
     "text": [
      "{'ner': 1.5713627014101825}\n"
     ]
    },
    {
     "name": "stderr",
     "output_type": "stream",
     "text": [
      "100%|██████████████████████████████████████████| 42/42 [00:08<00:00,  5.23it/s]\n",
      "  0%|                                                   | 0/42 [00:00<?, ?it/s]"
     ]
    },
    {
     "name": "stdout",
     "output_type": "stream",
     "text": [
      "{'ner': 0.3112057812251365}\n"
     ]
    },
    {
     "name": "stderr",
     "output_type": "stream",
     "text": [
      "100%|██████████████████████████████████████████| 42/42 [00:09<00:00,  4.44it/s]\n",
      "  0%|                                                   | 0/42 [00:00<?, ?it/s]"
     ]
    },
    {
     "name": "stdout",
     "output_type": "stream",
     "text": [
      "{'ner': 1.9629010998954852}\n"
     ]
    },
    {
     "name": "stderr",
     "output_type": "stream",
     "text": [
      "100%|██████████████████████████████████████████| 42/42 [00:10<00:00,  3.94it/s]\n",
      "  0%|                                                   | 0/42 [00:00<?, ?it/s]"
     ]
    },
    {
     "name": "stdout",
     "output_type": "stream",
     "text": [
      "{'ner': 0.004669901400683203}\n"
     ]
    },
    {
     "name": "stderr",
     "output_type": "stream",
     "text": [
      "100%|██████████████████████████████████████████| 42/42 [00:11<00:00,  3.56it/s]\n",
      "  0%|                                                   | 0/42 [00:00<?, ?it/s]"
     ]
    },
    {
     "name": "stdout",
     "output_type": "stream",
     "text": [
      "{'ner': 0.4971024359928209}\n"
     ]
    },
    {
     "name": "stderr",
     "output_type": "stream",
     "text": [
      "100%|██████████████████████████████████████████| 42/42 [00:12<00:00,  3.39it/s]\n",
      "  0%|                                                   | 0/42 [00:00<?, ?it/s]"
     ]
    },
    {
     "name": "stdout",
     "output_type": "stream",
     "text": [
      "{'ner': 5.577995835514181}\n"
     ]
    },
    {
     "name": "stderr",
     "output_type": "stream",
     "text": [
      "100%|██████████████████████████████████████████| 42/42 [00:12<00:00,  3.37it/s]\n",
      "  0%|                                                   | 0/42 [00:00<?, ?it/s]"
     ]
    },
    {
     "name": "stdout",
     "output_type": "stream",
     "text": [
      "{'ner': 3.232464918572396}\n"
     ]
    },
    {
     "name": "stderr",
     "output_type": "stream",
     "text": [
      "100%|██████████████████████████████████████████| 42/42 [00:12<00:00,  3.25it/s]\n",
      "  0%|                                                   | 0/42 [00:00<?, ?it/s]"
     ]
    },
    {
     "name": "stdout",
     "output_type": "stream",
     "text": [
      "{'ner': 0.027700782839108713}\n"
     ]
    },
    {
     "name": "stderr",
     "output_type": "stream",
     "text": [
      "100%|██████████████████████████████████████████| 42/42 [00:13<00:00,  3.20it/s]\n",
      "  0%|                                                   | 0/42 [00:00<?, ?it/s]"
     ]
    },
    {
     "name": "stdout",
     "output_type": "stream",
     "text": [
      "{'ner': 2.926940370284136e-05}\n"
     ]
    },
    {
     "name": "stderr",
     "output_type": "stream",
     "text": [
      "100%|██████████████████████████████████████████| 42/42 [00:13<00:00,  3.12it/s]\n",
      "  0%|                                                   | 0/42 [00:00<?, ?it/s]"
     ]
    },
    {
     "name": "stdout",
     "output_type": "stream",
     "text": [
      "{'ner': 3.4514041782786586}\n"
     ]
    },
    {
     "name": "stderr",
     "output_type": "stream",
     "text": [
      "100%|██████████████████████████████████████████| 42/42 [00:13<00:00,  3.06it/s]\n",
      "  0%|                                                   | 0/42 [00:00<?, ?it/s]"
     ]
    },
    {
     "name": "stdout",
     "output_type": "stream",
     "text": [
      "{'ner': 0.0007702017982735422}\n"
     ]
    },
    {
     "name": "stderr",
     "output_type": "stream",
     "text": [
      "100%|██████████████████████████████████████████| 42/42 [00:13<00:00,  3.08it/s]\n",
      "  0%|                                                   | 0/42 [00:00<?, ?it/s]"
     ]
    },
    {
     "name": "stdout",
     "output_type": "stream",
     "text": [
      "{'ner': 0.005390715993901207}\n"
     ]
    },
    {
     "name": "stderr",
     "output_type": "stream",
     "text": [
      "100%|██████████████████████████████████████████| 42/42 [00:13<00:00,  3.09it/s]\n",
      "  0%|                                                   | 0/42 [00:00<?, ?it/s]"
     ]
    },
    {
     "name": "stdout",
     "output_type": "stream",
     "text": [
      "{'ner': 0.0010404567203928185}\n"
     ]
    },
    {
     "name": "stderr",
     "output_type": "stream",
     "text": [
      "100%|██████████████████████████████████████████| 42/42 [00:13<00:00,  3.08it/s]\n",
      "  0%|                                                   | 0/42 [00:00<?, ?it/s]"
     ]
    },
    {
     "name": "stdout",
     "output_type": "stream",
     "text": [
      "{'ner': 0.0003381589425616353}\n"
     ]
    },
    {
     "name": "stderr",
     "output_type": "stream",
     "text": [
      "100%|██████████████████████████████████████████| 42/42 [00:13<00:00,  3.11it/s]\n",
      "  0%|                                                   | 0/42 [00:00<?, ?it/s]"
     ]
    },
    {
     "name": "stdout",
     "output_type": "stream",
     "text": [
      "{'ner': 1.998941020862585}\n"
     ]
    },
    {
     "name": "stderr",
     "output_type": "stream",
     "text": [
      "100%|██████████████████████████████████████████| 42/42 [00:14<00:00,  2.93it/s]\n",
      "  0%|                                                   | 0/42 [00:00<?, ?it/s]"
     ]
    },
    {
     "name": "stdout",
     "output_type": "stream",
     "text": [
      "{'ner': 0.6375262468201097}\n"
     ]
    },
    {
     "name": "stderr",
     "output_type": "stream",
     "text": [
      "100%|██████████████████████████████████████████| 42/42 [00:14<00:00,  2.90it/s]\n",
      "  0%|                                                   | 0/42 [00:00<?, ?it/s]"
     ]
    },
    {
     "name": "stdout",
     "output_type": "stream",
     "text": [
      "{'ner': 0.0001983738059839966}\n"
     ]
    },
    {
     "name": "stderr",
     "output_type": "stream",
     "text": [
      "100%|██████████████████████████████████████████| 42/42 [00:13<00:00,  3.14it/s]\n",
      "  0%|                                                   | 0/42 [00:00<?, ?it/s]"
     ]
    },
    {
     "name": "stdout",
     "output_type": "stream",
     "text": [
      "{'ner': 4.192985602545717}\n"
     ]
    },
    {
     "name": "stderr",
     "output_type": "stream",
     "text": [
      "100%|██████████████████████████████████████████| 42/42 [00:13<00:00,  3.03it/s]\n",
      "  0%|                                                   | 0/42 [00:00<?, ?it/s]"
     ]
    },
    {
     "name": "stdout",
     "output_type": "stream",
     "text": [
      "{'ner': 0.0005215411737265135}\n"
     ]
    },
    {
     "name": "stderr",
     "output_type": "stream",
     "text": [
      "100%|██████████████████████████████████████████| 42/42 [00:13<00:00,  3.10it/s]\n",
      "  0%|                                                   | 0/42 [00:00<?, ?it/s]"
     ]
    },
    {
     "name": "stdout",
     "output_type": "stream",
     "text": [
      "{'ner': 0.35867737162361396}\n"
     ]
    },
    {
     "name": "stderr",
     "output_type": "stream",
     "text": [
      "100%|██████████████████████████████████████████| 42/42 [00:13<00:00,  3.07it/s]\n",
      "  0%|                                                   | 0/42 [00:00<?, ?it/s]"
     ]
    },
    {
     "name": "stdout",
     "output_type": "stream",
     "text": [
      "{'ner': 0.006030320901777576}\n"
     ]
    },
    {
     "name": "stderr",
     "output_type": "stream",
     "text": [
      "100%|██████████████████████████████████████████| 42/42 [00:13<00:00,  3.08it/s]\n",
      "  0%|                                                   | 0/42 [00:00<?, ?it/s]"
     ]
    },
    {
     "name": "stdout",
     "output_type": "stream",
     "text": [
      "{'ner': 0.006344204933196751}\n"
     ]
    },
    {
     "name": "stderr",
     "output_type": "stream",
     "text": [
      "100%|██████████████████████████████████████████| 42/42 [00:13<00:00,  3.07it/s]\n",
      "  0%|                                                   | 0/42 [00:00<?, ?it/s]"
     ]
    },
    {
     "name": "stdout",
     "output_type": "stream",
     "text": [
      "{'ner': 2.9543150056237777}\n"
     ]
    },
    {
     "name": "stderr",
     "output_type": "stream",
     "text": [
      "100%|██████████████████████████████████████████| 42/42 [00:13<00:00,  3.07it/s]\n",
      "  0%|                                                   | 0/42 [00:00<?, ?it/s]"
     ]
    },
    {
     "name": "stdout",
     "output_type": "stream",
     "text": [
      "{'ner': 4.760004082244369e-06}\n"
     ]
    },
    {
     "name": "stderr",
     "output_type": "stream",
     "text": [
      "100%|██████████████████████████████████████████| 42/42 [00:13<00:00,  3.09it/s]\n",
      "  0%|                                                   | 0/42 [00:00<?, ?it/s]"
     ]
    },
    {
     "name": "stdout",
     "output_type": "stream",
     "text": [
      "{'ner': 0.002418695456881173}\n"
     ]
    },
    {
     "name": "stderr",
     "output_type": "stream",
     "text": [
      "100%|██████████████████████████████████████████| 42/42 [00:13<00:00,  3.12it/s]\n",
      "  0%|                                                   | 0/42 [00:00<?, ?it/s]"
     ]
    },
    {
     "name": "stdout",
     "output_type": "stream",
     "text": [
      "{'ner': 1.9502574518224873}\n"
     ]
    },
    {
     "name": "stderr",
     "output_type": "stream",
     "text": [
      "100%|██████████████████████████████████████████| 42/42 [00:13<00:00,  3.11it/s]\n",
      "  0%|                                                   | 0/42 [00:00<?, ?it/s]"
     ]
    },
    {
     "name": "stdout",
     "output_type": "stream",
     "text": [
      "{'ner': 4.543470804203952e-06}\n"
     ]
    },
    {
     "name": "stderr",
     "output_type": "stream",
     "text": [
      "100%|██████████████████████████████████████████| 42/42 [00:13<00:00,  3.10it/s]\n",
      "  0%|                                                   | 0/42 [00:00<?, ?it/s]"
     ]
    },
    {
     "name": "stdout",
     "output_type": "stream",
     "text": [
      "{'ner': 0.0006659039029209025}\n"
     ]
    },
    {
     "name": "stderr",
     "output_type": "stream",
     "text": [
      "100%|██████████████████████████████████████████| 42/42 [00:13<00:00,  3.12it/s]\n",
      "  0%|                                                   | 0/42 [00:00<?, ?it/s]"
     ]
    },
    {
     "name": "stdout",
     "output_type": "stream",
     "text": [
      "{'ner': 0.28202178979293335}\n"
     ]
    },
    {
     "name": "stderr",
     "output_type": "stream",
     "text": [
      "100%|██████████████████████████████████████████| 42/42 [00:13<00:00,  3.10it/s]\n",
      "  0%|                                                   | 0/42 [00:00<?, ?it/s]"
     ]
    },
    {
     "name": "stdout",
     "output_type": "stream",
     "text": [
      "{'ner': 1.369618310574005e-05}\n"
     ]
    },
    {
     "name": "stderr",
     "output_type": "stream",
     "text": [
      "100%|██████████████████████████████████████████| 42/42 [00:13<00:00,  3.12it/s]\n",
      "  0%|                                                   | 0/42 [00:00<?, ?it/s]"
     ]
    },
    {
     "name": "stdout",
     "output_type": "stream",
     "text": [
      "{'ner': 3.3357058718596173}\n"
     ]
    },
    {
     "name": "stderr",
     "output_type": "stream",
     "text": [
      "100%|██████████████████████████████████████████| 42/42 [00:13<00:00,  3.12it/s]\n",
      "  0%|                                                   | 0/42 [00:00<?, ?it/s]"
     ]
    },
    {
     "name": "stdout",
     "output_type": "stream",
     "text": [
      "{'ner': 1.9952033654129993}\n"
     ]
    },
    {
     "name": "stderr",
     "output_type": "stream",
     "text": [
      "100%|██████████████████████████████████████████| 42/42 [00:13<00:00,  3.13it/s]\n",
      "  0%|                                                   | 0/42 [00:00<?, ?it/s]"
     ]
    },
    {
     "name": "stdout",
     "output_type": "stream",
     "text": [
      "{'ner': 3.507398677507214}\n"
     ]
    },
    {
     "name": "stderr",
     "output_type": "stream",
     "text": [
      "100%|██████████████████████████████████████████| 42/42 [00:14<00:00,  2.96it/s]\n",
      "  0%|                                                   | 0/42 [00:00<?, ?it/s]"
     ]
    },
    {
     "name": "stdout",
     "output_type": "stream",
     "text": [
      "{'ner': 1.2401888538668647e-08}\n"
     ]
    },
    {
     "name": "stderr",
     "output_type": "stream",
     "text": [
      "100%|██████████████████████████████████████████| 42/42 [00:14<00:00,  2.96it/s]\n",
      "  0%|                                                   | 0/42 [00:00<?, ?it/s]"
     ]
    },
    {
     "name": "stdout",
     "output_type": "stream",
     "text": [
      "{'ner': 2.0003092141052474}\n"
     ]
    },
    {
     "name": "stderr",
     "output_type": "stream",
     "text": [
      "100%|██████████████████████████████████████████| 42/42 [00:13<00:00,  3.13it/s]\n",
      "  0%|                                                   | 0/42 [00:00<?, ?it/s]"
     ]
    },
    {
     "name": "stdout",
     "output_type": "stream",
     "text": [
      "{'ner': 1.99051296283794}\n"
     ]
    },
    {
     "name": "stderr",
     "output_type": "stream",
     "text": [
      "100%|██████████████████████████████████████████| 42/42 [00:13<00:00,  3.09it/s]\n",
      "  0%|                                                   | 0/42 [00:00<?, ?it/s]"
     ]
    },
    {
     "name": "stdout",
     "output_type": "stream",
     "text": [
      "{'ner': 1.9980592493501843}\n"
     ]
    },
    {
     "name": "stderr",
     "output_type": "stream",
     "text": [
      "100%|██████████████████████████████████████████| 42/42 [00:13<00:00,  3.11it/s]\n",
      "  0%|                                                   | 0/42 [00:00<?, ?it/s]"
     ]
    },
    {
     "name": "stdout",
     "output_type": "stream",
     "text": [
      "{'ner': 1.0341587567395855e-05}\n"
     ]
    },
    {
     "name": "stderr",
     "output_type": "stream",
     "text": [
      "100%|██████████████████████████████████████████| 42/42 [00:13<00:00,  3.11it/s]\n",
      "  0%|                                                   | 0/42 [00:00<?, ?it/s]"
     ]
    },
    {
     "name": "stdout",
     "output_type": "stream",
     "text": [
      "{'ner': 1.420435461187003e-07}\n"
     ]
    },
    {
     "name": "stderr",
     "output_type": "stream",
     "text": [
      "100%|██████████████████████████████████████████| 42/42 [00:13<00:00,  3.08it/s]\n",
      "  0%|                                                   | 0/42 [00:00<?, ?it/s]"
     ]
    },
    {
     "name": "stdout",
     "output_type": "stream",
     "text": [
      "{'ner': 0.0005467384661569618}\n"
     ]
    },
    {
     "name": "stderr",
     "output_type": "stream",
     "text": [
      "100%|██████████████████████████████████████████| 42/42 [00:13<00:00,  3.08it/s]\n",
      "  0%|                                                   | 0/42 [00:00<?, ?it/s]"
     ]
    },
    {
     "name": "stdout",
     "output_type": "stream",
     "text": [
      "{'ner': 0.002200723216714003}\n"
     ]
    },
    {
     "name": "stderr",
     "output_type": "stream",
     "text": [
      "100%|██████████████████████████████████████████| 42/42 [00:13<00:00,  3.10it/s]\n",
      "  0%|                                                   | 0/42 [00:00<?, ?it/s]"
     ]
    },
    {
     "name": "stdout",
     "output_type": "stream",
     "text": [
      "{'ner': 0.0011130853398824926}\n"
     ]
    },
    {
     "name": "stderr",
     "output_type": "stream",
     "text": [
      "100%|██████████████████████████████████████████| 42/42 [00:13<00:00,  3.03it/s]\n",
      "  0%|                                                   | 0/42 [00:00<?, ?it/s]"
     ]
    },
    {
     "name": "stdout",
     "output_type": "stream",
     "text": [
      "{'ner': 5.448209054733469}\n"
     ]
    },
    {
     "name": "stderr",
     "output_type": "stream",
     "text": [
      "100%|██████████████████████████████████████████| 42/42 [00:13<00:00,  3.13it/s]\n",
      "  0%|                                                   | 0/42 [00:00<?, ?it/s]"
     ]
    },
    {
     "name": "stdout",
     "output_type": "stream",
     "text": [
      "{'ner': 3.722743312525399}\n"
     ]
    },
    {
     "name": "stderr",
     "output_type": "stream",
     "text": [
      "100%|██████████████████████████████████████████| 42/42 [00:13<00:00,  3.08it/s]\n",
      "  0%|                                                   | 0/42 [00:00<?, ?it/s]"
     ]
    },
    {
     "name": "stdout",
     "output_type": "stream",
     "text": [
      "{'ner': 0.00041751952803948224}\n"
     ]
    },
    {
     "name": "stderr",
     "output_type": "stream",
     "text": [
      "100%|██████████████████████████████████████████| 42/42 [00:13<00:00,  3.10it/s]\n",
      "  0%|                                                   | 0/42 [00:00<?, ?it/s]"
     ]
    },
    {
     "name": "stdout",
     "output_type": "stream",
     "text": [
      "{'ner': 2.048135911214826}\n"
     ]
    },
    {
     "name": "stderr",
     "output_type": "stream",
     "text": [
      "100%|██████████████████████████████████████████| 42/42 [00:13<00:00,  3.10it/s]\n",
      "  0%|                                                   | 0/42 [00:00<?, ?it/s]"
     ]
    },
    {
     "name": "stdout",
     "output_type": "stream",
     "text": [
      "{'ner': 3.439541355296357}\n"
     ]
    },
    {
     "name": "stderr",
     "output_type": "stream",
     "text": [
      "100%|██████████████████████████████████████████| 42/42 [00:13<00:00,  3.10it/s]\n",
      "  0%|                                                   | 0/42 [00:00<?, ?it/s]"
     ]
    },
    {
     "name": "stdout",
     "output_type": "stream",
     "text": [
      "{'ner': 0.0034223540587671425}\n"
     ]
    },
    {
     "name": "stderr",
     "output_type": "stream",
     "text": [
      "100%|██████████████████████████████████████████| 42/42 [00:13<00:00,  3.13it/s]\n",
      "  0%|                                                   | 0/42 [00:00<?, ?it/s]"
     ]
    },
    {
     "name": "stdout",
     "output_type": "stream",
     "text": [
      "{'ner': 2.0000221087642056}\n"
     ]
    },
    {
     "name": "stderr",
     "output_type": "stream",
     "text": [
      "100%|██████████████████████████████████████████| 42/42 [00:13<00:00,  3.18it/s]\n",
      "  0%|                                                   | 0/42 [00:00<?, ?it/s]"
     ]
    },
    {
     "name": "stdout",
     "output_type": "stream",
     "text": [
      "{'ner': 7.2694438291652705}\n"
     ]
    },
    {
     "name": "stderr",
     "output_type": "stream",
     "text": [
      "100%|██████████████████████████████████████████| 42/42 [00:13<00:00,  3.15it/s]\n",
      "  0%|                                                   | 0/42 [00:00<?, ?it/s]"
     ]
    },
    {
     "name": "stdout",
     "output_type": "stream",
     "text": [
      "{'ner': 3.6005088775070515}\n"
     ]
    },
    {
     "name": "stderr",
     "output_type": "stream",
     "text": [
      "100%|██████████████████████████████████████████| 42/42 [00:13<00:00,  3.15it/s]\n",
      "  0%|                                                   | 0/42 [00:00<?, ?it/s]"
     ]
    },
    {
     "name": "stdout",
     "output_type": "stream",
     "text": [
      "{'ner': 4.017246746637134}\n"
     ]
    },
    {
     "name": "stderr",
     "output_type": "stream",
     "text": [
      "100%|██████████████████████████████████████████| 42/42 [00:13<00:00,  3.11it/s]\n",
      "  0%|                                                   | 0/42 [00:00<?, ?it/s]"
     ]
    },
    {
     "name": "stdout",
     "output_type": "stream",
     "text": [
      "{'ner': 5.387569023724115}\n"
     ]
    },
    {
     "name": "stderr",
     "output_type": "stream",
     "text": [
      "100%|██████████████████████████████████████████| 42/42 [00:13<00:00,  3.10it/s]\n",
      "  0%|                                                   | 0/42 [00:00<?, ?it/s]"
     ]
    },
    {
     "name": "stdout",
     "output_type": "stream",
     "text": [
      "{'ner': 6.042695782256481e-07}\n"
     ]
    },
    {
     "name": "stderr",
     "output_type": "stream",
     "text": [
      "100%|██████████████████████████████████████████| 42/42 [00:13<00:00,  3.13it/s]\n",
      "  0%|                                                   | 0/42 [00:00<?, ?it/s]"
     ]
    },
    {
     "name": "stdout",
     "output_type": "stream",
     "text": [
      "{'ner': 3.923024798219872}\n"
     ]
    },
    {
     "name": "stderr",
     "output_type": "stream",
     "text": [
      "100%|██████████████████████████████████████████| 42/42 [00:13<00:00,  3.12it/s]\n",
      "  0%|                                                   | 0/42 [00:00<?, ?it/s]"
     ]
    },
    {
     "name": "stdout",
     "output_type": "stream",
     "text": [
      "{'ner': 4.000028608772852}\n"
     ]
    },
    {
     "name": "stderr",
     "output_type": "stream",
     "text": [
      "100%|██████████████████████████████████████████| 42/42 [00:13<00:00,  3.11it/s]\n",
      "  0%|                                                   | 0/42 [00:00<?, ?it/s]"
     ]
    },
    {
     "name": "stdout",
     "output_type": "stream",
     "text": [
      "{'ner': 2.0000089119957574}\n"
     ]
    },
    {
     "name": "stderr",
     "output_type": "stream",
     "text": [
      "100%|██████████████████████████████████████████| 42/42 [00:13<00:00,  3.12it/s]\n",
      "  0%|                                                   | 0/42 [00:00<?, ?it/s]"
     ]
    },
    {
     "name": "stdout",
     "output_type": "stream",
     "text": [
      "{'ner': 4.054085044306335}\n"
     ]
    },
    {
     "name": "stderr",
     "output_type": "stream",
     "text": [
      "100%|██████████████████████████████████████████| 42/42 [00:13<00:00,  3.06it/s]\n",
      "  0%|                                                   | 0/42 [00:00<?, ?it/s]"
     ]
    },
    {
     "name": "stdout",
     "output_type": "stream",
     "text": [
      "{'ner': 2.800338605337539e-05}\n"
     ]
    },
    {
     "name": "stderr",
     "output_type": "stream",
     "text": [
      "100%|██████████████████████████████████████████| 42/42 [00:13<00:00,  3.08it/s]\n",
      "  0%|                                                   | 0/42 [00:00<?, ?it/s]"
     ]
    },
    {
     "name": "stdout",
     "output_type": "stream",
     "text": [
      "{'ner': 0.0011673612080085839}\n"
     ]
    },
    {
     "name": "stderr",
     "output_type": "stream",
     "text": [
      "100%|██████████████████████████████████████████| 42/42 [00:13<00:00,  3.04it/s]\n",
      "  0%|                                                   | 0/42 [00:00<?, ?it/s]"
     ]
    },
    {
     "name": "stdout",
     "output_type": "stream",
     "text": [
      "{'ner': 2.627450253976921e-09}\n"
     ]
    },
    {
     "name": "stderr",
     "output_type": "stream",
     "text": [
      "100%|██████████████████████████████████████████| 42/42 [00:13<00:00,  3.11it/s]\n",
      "  0%|                                                   | 0/42 [00:00<?, ?it/s]"
     ]
    },
    {
     "name": "stdout",
     "output_type": "stream",
     "text": [
      "{'ner': 0.08977431723719952}\n"
     ]
    },
    {
     "name": "stderr",
     "output_type": "stream",
     "text": [
      "100%|██████████████████████████████████████████| 42/42 [00:13<00:00,  3.07it/s]\n",
      "  0%|                                                   | 0/42 [00:00<?, ?it/s]"
     ]
    },
    {
     "name": "stdout",
     "output_type": "stream",
     "text": [
      "{'ner': 1.6431802832682236}\n"
     ]
    },
    {
     "name": "stderr",
     "output_type": "stream",
     "text": [
      "100%|██████████████████████████████████████████| 42/42 [00:13<00:00,  3.07it/s]"
     ]
    },
    {
     "name": "stdout",
     "output_type": "stream",
     "text": [
      "{'ner': 0.0014081779885990744}\n"
     ]
    },
    {
     "name": "stderr",
     "output_type": "stream",
     "text": [
      "\n"
     ]
    }
   ],
   "source": [
    "\n",
    "# add labels\n",
    "for _, annotations in TRAIN_DATA:\n",
    "    for ent in annotations.get('entities'):\n",
    "        ner.add_label(ent[2])\n",
    "\n",
    "    # get names of other pipes to disable them during training\n",
    "other_pipes = [pipe for pipe in nlp.pipe_names if pipe != 'ner']\n",
    "with nlp.disable_pipes(*other_pipes):  # only train NER\n",
    "    optimizer = nlp.begin_training()\n",
    "    for itn in range(n_iter):\n",
    "        random.shuffle(TRAIN_DATA)\n",
    "        losses = {}\n",
    "        for text, annotations in tqdm(TRAIN_DATA):\n",
    "            nlp.update(\n",
    "                [text],  # batch of texts\n",
    "                [annotations],  # batch of annotations\n",
    "                drop=0.5,  # dropout - make it harder to memorise data\n",
    "                sgd=optimizer,  # callable to update weights\n",
    "                losses=losses)\n",
    "        print(losses)"
   ]
  },
  {
   "cell_type": "code",
   "execution_count": 53,
   "metadata": {},
   "outputs": [
    {
     "name": "stdout",
     "output_type": "stream",
     "text": [
      "Entities [('RADIUS Server', 'TECH')]\n",
      "Entities [('Webserviceserver', 'TECH')]\n",
      "Entities [('VMware vSphere', 'TECH')]\n",
      "Entities [('ClearPass User Interface', 'TECH')]\n",
      "Entities [('DNS', 'TECH')]\n",
      "Entities [('ClearPass Policy Manager', 'TECH')]\n",
      "Entities [('AntiVirus', 'TECH')]\n",
      "Entities [('Microsoft Hyper-V', 'TECH')]\n",
      "Entities [('RADIUS Server', 'TECH')]\n",
      "Entities [('Microsoft Hyper-V', 'TECH')]\n",
      "Entities [('KVM console', 'TECH')]\n",
      "Entities [('ClearPassserver', 'TECH')]\n",
      "Entities [('CLI', 'TECH')]\n",
      "Entities [('DAT', 'TECH')]\n",
      "Entities [('ClearPassserver', 'TECH')]\n",
      "Entities [('Mobility Controller', 'TECH')]\n",
      "Entities [('Windows operating systems', 'TECH')]\n",
      "Entities [('Windows operating system', 'TECH')]\n",
      "Entities [('SSH', 'TECH')]\n",
      "Entities [('DAT', 'TECH')]\n",
      "Entities [('ClearPass Policy Manager', 'TECH')]\n",
      "Entities [('CLI', 'TECH')]\n",
      "Entities [('TACACS', 'TECH')]\n",
      "Entities [('Mobility Controller', 'TECH')]\n",
      "Entities []\n",
      "Entities [('AntiVirus', 'TECH')]\n",
      "Entities [('ClearPass User Interface', 'TECH')]\n",
      "Entities [('Windows Hotfixes', 'TECH')]\n",
      "Entities [('Aruba network', 'TECH')]\n",
      "Entities [('Policy Manager CLI', 'TECH')]\n",
      "Entities [('KVM console', 'TECH')]\n",
      "Entities [('VMware vSphere', 'TECH')]\n",
      "Entities [('Aruba network', 'TECH')]\n",
      "Entities [('Policy Manager CLI', 'TECH')]\n",
      "Entities [('DNS', 'TECH')]\n",
      "Entities [('SNMP', 'TECH')]\n",
      "Entities [('SSH', 'TECH')]\n",
      "Entities [('SNMP', 'TECH')]\n",
      "Entities [('Windows Hotfixes', 'TECH')]\n",
      "Entities [('XML', 'TECH')]\n",
      "Entities [('TACACS', 'TECH')]\n",
      "Entities [('XML', 'TECH')]\n"
     ]
    }
   ],
   "source": [
    "# test the trained model\n",
    "for text, _ in TRAIN_DATA:\n",
    "    doc = nlp(text)\n",
    "    print('Entities', [(ent.text, ent.label_) for ent in doc.ents])\n",
    "    #print('Tokens', [(t.text, t.ent_type_, t.ent_iob) for t in doc])"
   ]
  },
  {
   "cell_type": "code",
   "execution_count": 54,
   "metadata": {},
   "outputs": [
    {
     "name": "stdout",
     "output_type": "stream",
     "text": [
      "Saved model to C:\\Users\\Admin\\Desktop\\HPE\\TEST\n"
     ]
    }
   ],
   "source": [
    "# save model to output directory\n",
    "if output_dir is not None:\n",
    "    output_dir = Path(output_dir)\n",
    "    if not output_dir.exists():\n",
    "        output_dir.mkdir()\n",
    "    nlp.to_disk(output_dir)\n",
    "    print(\"Saved model to\", output_dir)"
   ]
  },
  {
   "cell_type": "code",
   "execution_count": 55,
   "metadata": {
    "scrolled": true
   },
   "outputs": [
    {
     "name": "stdout",
     "output_type": "stream",
     "text": [
      "Loading from C:\\Users\\Admin\\Desktop\\HPE\\TEST\n",
      "Entities [('RADIUS Server', 'TECH')]\n",
      "Entities [('Webserviceserver', 'TECH')]\n",
      "Entities [('VMware vSphere', 'TECH')]\n",
      "Entities [('ClearPass User Interface', 'TECH')]\n",
      "Entities [('DNS', 'TECH')]\n",
      "Entities [('ClearPass Policy Manager', 'TECH')]\n",
      "Entities [('AntiVirus', 'TECH')]\n",
      "Entities [('Microsoft Hyper-V', 'TECH')]\n",
      "Entities [('RADIUS Server', 'TECH')]\n",
      "Entities [('Microsoft Hyper-V', 'TECH')]\n",
      "Entities [('KVM console', 'TECH')]\n",
      "Entities [('ClearPassserver', 'TECH')]\n",
      "Entities [('CLI', 'TECH')]\n",
      "Entities [('DAT', 'TECH')]\n",
      "Entities [('ClearPassserver', 'TECH')]\n",
      "Entities [('Mobility Controller', 'TECH')]\n",
      "Entities [('Windows operating systems', 'TECH')]\n",
      "Entities [('Windows operating system', 'TECH')]\n",
      "Entities [('SSH', 'TECH')]\n",
      "Entities [('DAT', 'TECH')]\n",
      "Entities [('ClearPass Policy Manager', 'TECH')]\n",
      "Entities [('CLI', 'TECH')]\n",
      "Entities [('TACACS', 'TECH')]\n",
      "Entities [('Mobility Controller', 'TECH')]\n",
      "Entities []\n",
      "Entities [('AntiVirus', 'TECH')]\n",
      "Entities [('ClearPass User Interface', 'TECH')]\n",
      "Entities [('Windows Hotfixes', 'TECH')]\n",
      "Entities [('Aruba network', 'TECH')]\n",
      "Entities [('Policy Manager CLI', 'TECH')]\n",
      "Entities [('KVM console', 'TECH')]\n",
      "Entities [('VMware vSphere', 'TECH')]\n",
      "Entities [('Aruba network', 'TECH')]\n",
      "Entities [('Policy Manager CLI', 'TECH')]\n",
      "Entities [('DNS', 'TECH')]\n",
      "Entities [('SNMP', 'TECH')]\n",
      "Entities [('SSH', 'TECH')]\n",
      "Entities [('SNMP', 'TECH')]\n",
      "Entities [('Windows Hotfixes', 'TECH')]\n",
      "Entities [('XML', 'TECH')]\n",
      "Entities [('TACACS', 'TECH')]\n",
      "Entities [('XML', 'TECH')]\n"
     ]
    }
   ],
   "source": [
    "# test the saved model\n",
    "print(\"Loading from\", output_dir)\n",
    "nlp2 = spacy.load(output_dir)\n",
    "for text, _ in TRAIN_DATA:\n",
    "    doc = nlp2(text)\n",
    "    print('Entities', [(ent.text, ent.label_) for ent in doc.ents])\n",
    "    #print('Tokens', [(t.text, t.ent_type_, t.ent_iob) for t in doc])"
   ]
  },
  {
   "cell_type": "code",
   "execution_count": 68,
   "metadata": {},
   "outputs": [],
   "source": [
    "c=\"\"\"SNMP,SSH and Webserviceserver updates include AntiVirus and Windows Hotfixes for supported Windows operating systems. The\n",
    "ClearPassserver uses these updates to show a list of the available hotfixes in the AntiVirus health\n",
    "class.Policy Manager CLI can also be used.DAT file and XML file can be stored.The CLI provides a way to manage and configure Policy Manager information.\n",
    "You can access the CLI from the console using the serial port on the ClearPass appliance hardware, or remotely\n",
    "using SSH, or use the VMware vSphere and Microsoft Hyper-V , or KVM console to run the virtual appliance.You can also use DNS server , RADIUS Server and TACACS.\n",
    "Mobility Controller and ClearPass Policy Manager and ClearPass User Interface are implemented.The Aruba network used if of version 6.7.0.\"\"\""
   ]
  },
  {
   "cell_type": "code",
   "execution_count": 69,
   "metadata": {},
   "outputs": [
    {
     "name": "stdout",
     "output_type": "stream",
     "text": [
      "Loading from C:\\Users\\Admin\\Desktop\\HPE\\TEST\n",
      "Entities [('SNMP', 'TECH'), ('SSH', 'TECH'), ('Webserviceserver', 'TECH'), ('AntiVirus', 'TECH'), ('Windows Hotfixes', 'TECH'), ('Windows operating systems', 'TECH'), ('ClearPassserver', 'TECH'), ('AntiVirus', 'TECH'), ('Policy Manager CLI', 'TECH'), ('DAT', 'TECH'), ('XML', 'TECH'), ('CLI', 'TECH'), ('Policy Manager', 'TECH'), ('CLI', 'TECH'), ('ClearPass', 'TECH'), ('SSH', 'TECH'), ('VMware vSphere', 'TECH'), ('Microsoft Hyper-V', 'TECH'), ('KVM console', 'TECH'), ('DNS', 'TECH'), ('RADIUS Server', 'TECH'), ('TACACS', 'TECH'), ('Mobility Controller', 'TECH'), ('ClearPass Policy Manager', 'TECH'), ('ClearPass User Interface', 'TECH'), ('Aruba network', 'TECH'), ('6.7.0', 'TECH')]\n"
     ]
    }
   ],
   "source": [
    "# test the saved model\n",
    "print(\"Loading from\", output_dir)\n",
    "nlp2 = spacy.load(output_dir)\n",
    "#for text, _ in TRAIN_DATA:\n",
    "doc = nlp2(c)\n",
    "print('Entities', [(ent.text, ent.label_) for ent in doc.ents])\n",
    "#print('Tokens', [(t.text, t.ent_type_, t.ent_iob) for t in doc])\n",
    "data=[]\n",
    "for i in doc.ents:\n",
    "    info={'WORDS':i.text,'LABEL':i.label_}\n",
    "    data.append(info)"
   ]
  },
  {
   "cell_type": "code",
   "execution_count": 58,
   "metadata": {},
   "outputs": [],
   "source": [
    "import csv"
   ]
  },
  {
   "cell_type": "code",
   "execution_count": 70,
   "metadata": {},
   "outputs": [],
   "source": [
    "with open('kb1.csv',mode='w',newline='',encoding='utf8') as csv_file:\n",
    "    fieldnames=['WORDS','LABEL']\n",
    "    writer=csv.DictWriter(csv_file,fieldnames=fieldnames)\n",
    "    writer.writeheader()\n",
    "    for i in data:\n",
    "        writer.writerow(i)"
   ]
  },
  {
   "cell_type": "code",
   "execution_count": 71,
   "metadata": {},
   "outputs": [],
   "source": [
    "#dic={}\n",
    "words=[]\n",
    "labels=[]\n",
    "with open('kb1.csv',encoding='utf8') as csv_file:\n",
    "    content=csv.DictReader(csv_file)\n",
    "    for i in content:\n",
    "         words.append(i['WORDS'])\n",
    "         labels.append(i['LABEL'])"
   ]
  },
  {
   "cell_type": "code",
   "execution_count": 16,
   "metadata": {},
   "outputs": [
    {
     "name": "stdout",
     "output_type": "stream",
     "text": [
      "Ask me anything: are there any technologies used\n",
      "Yes\n",
      "have more questions? [yes=1|no=0]1\n",
      "Ask me anything: what are the technologies used\n",
      "{'Microsoft Hyper-V', 'ClearPass User Interface', 'SNMP', 'ClearPassserver', 'Windows Hotfixes', 'SSH', 'CLI', 'ClearPass', 'VMware vSphere', 'Aruba network', 'ClearPass Policy Manager', 'Policy Manager CLI', 'Webserviceserver', 'Windows operating systems', 'XML', 'Policy Manager', 'AntiVirus', 'DAT'}\n",
      "have more questions? [yes=1|no=0]0\n"
     ]
    }
   ],
   "source": [
    "words=set(words)\n",
    "def ans_query(q):\n",
    "    if q==\"are there any technologies used\":\n",
    "        if words:\n",
    "            print('Yes')\n",
    "        else:\n",
    "            print('No technology is used')\n",
    "    elif q==\"what are the technologies used\":\n",
    "        print(words)\n",
    "\n",
    "choice=1\n",
    "while choice:\n",
    "    query=input(\"Ask me anything: \")\n",
    "    ans_query(query)\n",
    "    choice=int(input(\"have more questions? [yes=1|no=0]\"))"
   ]
  },
  {
   "cell_type": "code",
   "execution_count": 72,
   "metadata": {},
   "outputs": [
    {
     "name": "stdout",
     "output_type": "stream",
     "text": [
      "Entities [('RADIUS Server', 'TECH'), ('KVM console', 'TECH'), ('TACACS', 'TECH'), ('DNS', 'TECH')]\n"
     ]
    }
   ],
   "source": [
    "text=\"RADIUS Server and KVM console want to know this.The TACACS and DNS can be used.\"\n",
    "\n",
    "doc = nlp2(text)\n",
    "print('Entities', [(ent.text, ent.label_) for ent in doc.ents])"
   ]
  },
  {
   "cell_type": "code",
   "execution_count": null,
   "metadata": {},
   "outputs": [],
   "source": []
  }
 ],
 "metadata": {
  "kernelspec": {
   "display_name": "Python 3",
   "language": "python",
   "name": "python3"
  },
  "language_info": {
   "codemirror_mode": {
    "name": "ipython",
    "version": 3
   },
   "file_extension": ".py",
   "mimetype": "text/x-python",
   "name": "python",
   "nbconvert_exporter": "python",
   "pygments_lexer": "ipython3",
   "version": "3.6.9"
  }
 },
 "nbformat": 4,
 "nbformat_minor": 2
}
